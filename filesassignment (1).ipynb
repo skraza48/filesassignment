{
 "cells": [
  {
   "cell_type": "markdown",
   "id": "f6a1c5dc-4b4a-4cca-be2b-daf243207912",
   "metadata": {},
   "source": [
    "THEORY QUESTION :"
   ]
  },
  {
   "cell_type": "code",
   "execution_count": null,
   "id": "615960c8-3bdc-4207-b0c6-771672cf4507",
   "metadata": {},
   "outputs": [],
   "source": [
    "# What is the difference between interpreted and compiled language ?\n",
    "'''\n",
    "- 1. Compiled Language\n",
    "Translation: The entire source code is converted into machine code by a compiler before the program runs.\n",
    "\n",
    "Execution: The compiled file (e.g., .exe, .out) is directly executed by the system.\n",
    "\n",
    "Speed: Usually faster in execution, since translation is done ahead of time.\n",
    "\n",
    "Examples: C, C++, Rust, Go.\n",
    "\n",
    "Pros:\n",
    "Faster performance.\n",
    "\n",
    "Errors can be caught during compilation.\n",
    "\n",
    "Cons:\n",
    "Slower development cycle (compile, then run).\n",
    "\n",
    "Platform-dependent binaries.\n",
    "\n",
    "   2. Interpreted Language\n",
    "Translation: The source code is executed line-by-line by an interpreter at runtime.\n",
    "\n",
    "Execution: No separate compiled file; the interpreter runs the code directly.\n",
    "\n",
    "Speed: Typically slower, since translation happens during execution.\n",
    "\n",
    "Examples: Python, JavaScript, Ruby, PHP.\n",
    "\n",
    "Pros:\n",
    "Easier debugging and testing.\n",
    "\n",
    "More flexible and portable.\n",
    "\n",
    "Cons:\n",
    "Slower execution.\n",
    "\n",
    "Errors might only appear at runtime.\n",
    "\n",
    "\n",
    "'''"
   ]
  },
  {
   "cell_type": "code",
   "execution_count": null,
   "id": "26c97dd1-6c5f-42ce-af8b-56005f2ba260",
   "metadata": {},
   "outputs": [],
   "source": [
    "# What is exceptional handling in python ?\n",
    "'''\n",
    "- Exception handling in Python is a way to manage and respond to runtime errors (called exceptions) without crashing the program.\n",
    "  example : try:\n",
    "    num = int(input(\"Enter a number: \"))\n",
    "    result = 10 / num\n",
    "except ValueError:\n",
    "    print(\"That's not a number!\")\n",
    "except ZeroDivisionError:\n",
    "    print(\"Can't divide by zero!\")\n",
    "else:\n",
    "    print(\"Result is:\", result)\n",
    "finally:\n",
    "    print(\"Done.\")\n",
    "\n",
    "'''"
   ]
  },
  {
   "cell_type": "code",
   "execution_count": null,
   "id": "932c2a6e-f867-4b25-9ff9-6c45c9a6c11e",
   "metadata": {},
   "outputs": [],
   "source": [
    "# What is the purpose of the finally block in exception handling ?\n",
    "'''\n",
    "-  Purpose of the finally block:\n",
    "Cleanup operations (e.g., closing files, releasing resources, disconnecting from a network).\n",
    "\n",
    "Ensures critical code runs no matter what, even if an error occurs or the program exits early.\n",
    "\n",
    "   example:\n",
    "   try:\n",
    "    f = open(\"data.txt\", \"r\")\n",
    "    data = f.read()\n",
    "except FileNotFoundError:\n",
    "    print(\"File not found!\")\n",
    "finally:\n",
    "    print(\"Closing file (if it was opened).\")\n",
    "    try:\n",
    "        f.close()\n",
    "    except:\n",
    "        pass\n",
    "\n",
    "'''"
   ]
  },
  {
   "cell_type": "code",
   "execution_count": null,
   "id": "4ad9e622-bd2b-4693-852c-13363cdc15cf",
   "metadata": {},
   "outputs": [],
   "source": [
    "# What is logging in python ?\n",
    "'''\n",
    "- Logging in Python is the process of recording messages about a program's execution. It's commonly used for debugging,\n",
    "  monitoring, and tracking errors or events in applications.\n",
    "'''"
   ]
  },
  {
   "cell_type": "code",
   "execution_count": null,
   "id": "ac81d78d-8d46-432a-b43a-bff351e78e10",
   "metadata": {},
   "outputs": [],
   "source": [
    "# What is the significance of the __del__ method in python ?\n",
    "'''\n",
    "- The __del__ method in Python is a special method known as a destructor. It is called automatically when an object is about to be destroyed—typically when \n",
    "  there are no more references to it.\n",
    "  It is basically used for clean up resources.\n",
    "'''"
   ]
  },
  {
   "cell_type": "code",
   "execution_count": null,
   "id": "e2b3b666-6b4d-41e6-8229-4f6cd0187b45",
   "metadata": {},
   "outputs": [],
   "source": [
    "# What is the difference between import and from ... import in python ?\n",
    "'''\n",
    "- 1. import module\n",
    "Imports the entire module.\n",
    "\n",
    "You have to use the module name as a prefix to access functions, classes, etc.\n",
    "example: import math\n",
    "print(math.sqrt(16))  # You must use math.sqrt\n",
    "\n",
    "  2. from module import name\n",
    "Imports specific parts of a module (function, class, variable).\n",
    "\n",
    "You can use the name directly without prefixing with the module name.\n",
    "\n",
    "example: from math import sqrt\n",
    "print(sqrt(16))  # No need to write math.sqrt\n",
    "\n",
    "'''"
   ]
  },
  {
   "cell_type": "code",
   "execution_count": null,
   "id": "cd66b13e-1292-416e-ac61-3162f28e814e",
   "metadata": {},
   "outputs": [],
   "source": [
    "# How can you handle multiple exception in pyhton ?\n",
    "'''\n",
    "- Multiple except Blocks (Recommended)\n",
    "Handle different exception types separately.\n",
    "\n",
    "try:\n",
    "    x = int(input(\"Enter a number: \"))\n",
    "    result = 10 / x\n",
    "except ValueError:\n",
    "    print(\"Invalid input! Please enter a number.\")\n",
    "except ZeroDivisionError:\n",
    "    print(\"You can't divide by zero.\")\n",
    "Each except block catches a specific error.\n",
    "\n",
    "This gives you fine control over how each error is handled.\n",
    "\n",
    " 2. Single except Block for Multiple Exceptions\n",
    "Use a tuple to catch several exceptions in the same block.\n",
    "\n",
    "try:\n",
    "    x = int(input(\"Enter a number: \"))\n",
    "    result = 10 / x\n",
    "except (ValueError, ZeroDivisionError) as e:\n",
    "    print(f\"An error occurred: {e}\")\n",
    "Good when the handling logic is the same for multiple errors.\n",
    "\n",
    " 3. Catching All Exceptions (Use Sparingly)\n",
    "Use a generic except to catch any exception.\n",
    "\n",
    "try:\n",
    "    # Some risky code\n",
    "except Exception as e:\n",
    "    print(f\"Unexpected error: {e}\")\n",
    "'''"
   ]
  },
  {
   "cell_type": "code",
   "execution_count": null,
   "id": "219d877f-e774-408a-b7d6-9e84abc2f7c5",
   "metadata": {},
   "outputs": [],
   "source": [
    "# What is the purpose of of the with statement when handling files in pyhton ?\n",
    "'''\n",
    "-  Purpose of with When Handling Files:\n",
    "Automatically opens and closes the file.\n",
    "\n",
    "Prevents resource leaks (e.g., forgetting to close a file).\n",
    "\n",
    "Makes the code cleaner and more readable.\n",
    "\n",
    " example: with open(\"file.txt\", \"r\") as f:\n",
    "    data = f.read()\n",
    "# File is automatically closed here\n",
    "\n",
    "'''"
   ]
  },
  {
   "cell_type": "code",
   "execution_count": null,
   "id": "838a6623-70d8-4712-870c-433ac25558a7",
   "metadata": {},
   "outputs": [],
   "source": [
    "# What is the difference between multithreading and multiprocessing ?\n",
    "'''\n",
    "- 1. Multithreading\n",
    "Uses multiple threads within a single process.\n",
    "\n",
    "Threads share the same memory space.\n",
    "\n",
    "Best for I/O-bound tasks (e.g., file reading, network requests).\n",
    "\n",
    "Limited by Python’s Global Interpreter Lock (GIL) — only one thread executes Python bytecode at a time.\n",
    "  \n",
    "  #example :import threading\n",
    "\n",
    "def task():\n",
    "    print(\"Thread is running\")\n",
    "\n",
    "t = threading.Thread(target=task)\n",
    "t.start()\n",
    "\n",
    "  2. Multiprocessing\n",
    "Uses multiple processes, each with its own memory space.\n",
    "\n",
    "Bypasses the GIL, allowing true parallelism.\n",
    "\n",
    "Best for CPU-bound tasks (e.g., image processing, data crunching).\n",
    "\n",
    "  #example :import multiprocessing\n",
    "\n",
    "def task():\n",
    "    print(\"Process is running\")\n",
    "\n",
    "p = multiprocessing.Process(target=task)\n",
    "p.start()\n",
    "\n",
    "\n",
    "'''"
   ]
  },
  {
   "cell_type": "code",
   "execution_count": null,
   "id": "e22adf32-1410-46da-a239-94ed29e87bdb",
   "metadata": {},
   "outputs": [],
   "source": [
    "# What are the advantages of using logging in a program ?\n",
    "'''\n",
    "- Advantages of Using Logging in Python:\n",
    "1. Provides Different Log Levels\n",
    "You can categorize messages based on severity:\n",
    "\n",
    "DEBUG, INFO, WARNING, ERROR, CRITICAL\n",
    "\n",
    "# Example:\n",
    "logging.warning(\"Disk space is low.\")\n",
    "logging.error(\"Database connection failed.\")\n",
    "\n",
    "2. Output to Multiple Destinations\n",
    "Logs can be sent to:\n",
    "\n",
    "Console\n",
    "\n",
    "Log files\n",
    "\n",
    "Remote servers\n",
    "\n",
    "Emails or databases\n",
    "\n",
    "3. Helps with Debugging and Maintenance\n",
    "Keeps a permanent record of what happened and when.\n",
    "\n",
    "Easier to diagnose issues after deployment.\n",
    "\n",
    "4. Thread-Safe and Multiprocess-Safe\n",
    "Logging works well in multi-threaded or multi-process environments, unlike print() which may interleave outputs.\n",
    "\n",
    "5. Configurable and Flexible\n",
    "You can:\n",
    "\n",
    "Set formatting (timestamps, filenames, line numbers)\n",
    "\n",
    "Change log levels dynamically\n",
    "\n",
    "Rotate and archive logs automatically\n",
    "\n",
    "6. Better Than print() in Production\n",
    "print() is for temporary debugging.\n",
    "\n",
    "Logging gives you structured, adjustable, and long-term insight into program behavior.\n",
    "\n",
    "\n",
    "'''"
   ]
  },
  {
   "cell_type": "code",
   "execution_count": null,
   "id": "c22c8513-c0fd-42f5-9a58-abed17d8dde2",
   "metadata": {},
   "outputs": [],
   "source": [
    "# What is memory management in pyhton ?\n",
    "'''\n",
    "- Memory management in Python refers to the process of efficiently allocating, using, and releasing memory in a program to ensure \n",
    "  that it performs optimally and doesn't consume excessive resources\n",
    "'''"
   ]
  },
  {
   "cell_type": "code",
   "execution_count": null,
   "id": "c694af7d-e3c9-4bb8-b5c1-9252e8eb9847",
   "metadata": {},
   "outputs": [],
   "source": [
    "# What are the basic steps involved in exception handling in python ?\n",
    "'''\n",
    "- 1. try Block\n",
    "The try block is where you place the code that might raise an exception.\n",
    "\n",
    "This is the part where you \"try\" to execute some code that could potentially fail.\n",
    "\n",
    "try:\n",
    "    result = 10 / 0  # This will raise a ZeroDivisionError\n",
    "\n",
    "2. except Block\n",
    "The except block catches and handles specific exceptions raised in the try block.\n",
    "\n",
    "You can have multiple except blocks to catch different types of exceptions.\n",
    "\n",
    "You can also catch all exceptions using a generic except.\n",
    "\n",
    "except ZeroDivisionError:\n",
    "    print(\"Cannot divide by zero!\")\n",
    "You can also handle multiple exceptions in a single except block:\n",
    "\n",
    "except (ValueError, ZeroDivisionError):\n",
    "    print(\"Either ValueError or ZeroDivisionError occurred.\")\n",
    "\n",
    "3. else Block (Optional)\n",
    "The else block is optional and, if present, runs only if no exception was raised in the try block.\n",
    "\n",
    "It's useful for code that should only run if no errors occurred.\n",
    "\n",
    "else:\n",
    "    print(\"Division was successful.\")\n",
    "\n",
    "4. finally Block (Optional)\n",
    "The finally block is always executed, whether an exception occurred or not.\n",
    "\n",
    "It's often used for cleaning up resources, like closing files or releasing network connections.\n",
    "\n",
    "finally:\n",
    "    print(\"This will always execute.\")\n",
    "'''"
   ]
  },
  {
   "cell_type": "code",
   "execution_count": null,
   "id": "4a68ae19-9626-4738-a13a-ea0d71b5dc3e",
   "metadata": {},
   "outputs": [],
   "source": [
    "# Why is memory management is important in pyhton?\n",
    "'''\n",
    "- Memory management is important in Python because it directly impacts a program’s performance, stability, and resource usage. Even though Python handles most memory operations automatically,\n",
    "  understanding and managing memory wisely is crucial—especially in large-scale or long-running applications \n",
    "'''"
   ]
  },
  {
   "cell_type": "code",
   "execution_count": null,
   "id": "085bd3b9-4913-4672-aa62-05528e0fcb70",
   "metadata": {},
   "outputs": [],
   "source": [
    "# What is the role of try and except in exception handling ?\n",
    "'''\n",
    "-  Role of try and except:\n",
    "🔹 try Block:\n",
    "The try block is used to wrap code that might raise an exception.\n",
    "\n",
    "Python will attempt to execute this code.\n",
    "\n",
    "If an error occurs, Python immediately jumps to the matching except block.\n",
    "example:\n",
    "try:\n",
    "    number = int(input(\"Enter a number: \"))\n",
    "    result = 10 / number\n",
    "🔹 except Block:\n",
    "The except block handles the error that occurred in the try block.\n",
    "\n",
    "You can handle specific types of exceptions or catch all exceptions.\n",
    "\n",
    "Prevents the program from crashing and lets you display a useful message or take corrective action.\n",
    "example:\n",
    "except ZeroDivisionError:\n",
    "    print(\"You can't divide by zero.\")\n",
    "except ValueError:\n",
    "    print(\"Invalid input. Please enter a number.\")\n",
    "'''"
   ]
  },
  {
   "cell_type": "code",
   "execution_count": null,
   "id": "9182c9a9-b66d-44a6-944e-dd5a309f8e2b",
   "metadata": {},
   "outputs": [],
   "source": [
    "# How does python's garbage collection system work ?\n",
    "'''\n",
    "- Python’s garbage collection system automatically manages memory by reclaiming unused objects, helping to prevent memory leaks and improve performance. \n",
    "  It combines reference counting with cycle detection to identify and clean up objects that are no longer needed.\n",
    "'''"
   ]
  },
  {
   "cell_type": "code",
   "execution_count": null,
   "id": "22b38efc-ec6b-4386-a3cd-aedea2092eb0",
   "metadata": {},
   "outputs": [],
   "source": [
    "# What is the purpose of else block in exception handling ?\n",
    "'''\n",
    "-  Purpose of the else Block:\n",
    "It separates the \"what to do if all goes well\" logic from the \"what to do if an error occurs\" logic.\n",
    "\n",
    "Helps keep code cleaner and more readable.\n",
    "\n",
    "Syntax:\n",
    "try:\n",
    "    # Code that might raise an exception\n",
    "except SomeException:\n",
    "    # Code that runs if an exception occurs\n",
    "else:\n",
    "    # Code that runs if NO exception occurs\n",
    "'''"
   ]
  },
  {
   "cell_type": "code",
   "execution_count": null,
   "id": "c34e9144-0d52-4d52-8d56-2674ecb5d66a",
   "metadata": {},
   "outputs": [],
   "source": [
    "# What are the common logging levels in python ?\n",
    "'''\n",
    "- Common Logging Levels in Python (from lowest to highest severity):\n",
    "LevelName\tNumeric Value\tPurpose\n",
    "DEBUG\t         10\t        Detailed information, useful for debugging (e.g., internal states).\n",
    "INFO\t         20\t        General information about normal operations (e.g., startup, shutdown).\n",
    "WARNING\t         30\t        Indicates something unexpected, but the program continues to run.\n",
    "ERROR\t         40      \tA serious problem that caused a function to fail.\n",
    "CRITICAL\t     50\t        A severe error indicating that the program may not continue.\n",
    "\n",
    "'''"
   ]
  },
  {
   "cell_type": "code",
   "execution_count": null,
   "id": "48312dc8-d139-4772-b007-3aa099fc4fe3",
   "metadata": {},
   "outputs": [],
   "source": [
    "# What is difference between os.fork() and multiprocessing in python ?\n",
    "'''\n",
    "Key Differences Between os.fork() and multiprocessing\n",
    "\n",
    "Feature\t                     os.fork()\t                                   multiprocessing module\n",
    "Level of abstraction\t     Low-level system call\t                       High-level Python library\n",
    "Platform support\t         Unix/Linux only\t                           Cross-platform (works on Windows, macOS, Linux)\n",
    "Ease of use\t                 Requires manual process management\t           Provides easy-to-use classes like Process, Pool\n",
    "Code readability\t         More complex and error-prone\t               Cleaner and easier to maintain\n",
    "Inter-process communication\t Must be manually implemented (e.g., pipes)    Built-in support (Queue, Pipe, Manager)\n",
    "Process start method\t     Uses fork() system call\t                   Uses fork, spawn, or forkserver\n",
    "'''"
   ]
  },
  {
   "cell_type": "code",
   "execution_count": null,
   "id": "7bf0e04b-330a-4e5a-9ed3-1f0bd60dd315",
   "metadata": {},
   "outputs": [],
   "source": [
    "# What is the importance of closing a file in python ?\n",
    "'''\n",
    "- Closing a File Is Important:\n",
    "1. Frees Up System Resources\n",
    "Open files consume system resources (file handles, memory).\n",
    "\n",
    "If too many files remain open, you may hit the OS limit on open files.\n",
    "\n",
    "2. Ensures Data Is Written (Flushing Buffers)\n",
    "For write or append operations, closing the file ensures that all data is flushed from memory to disk.\n",
    "\n",
    "Without closing, some data may not be saved properly, causing data loss.\n",
    "\n",
    "3. Avoids File Corruption\n",
    "Incomplete writes or buffer issues can lead to corrupted files.\n",
    "\n",
    "Closing helps keep file content consistent and reliable.\n",
    "\n",
    "4. Allows Safe Access by Other Programs\n",
    "Some files may be locked while open.\n",
    "\n",
    "Closing them lets other processes or users access the file.\n",
    "\n",
    "5. Improves Program Stability\n",
    "Properly managing file handles helps prevent bugs, crashes, or memory leaks in long-running programs.\n",
    "\n",
    "\n",
    "'''"
   ]
  },
  {
   "cell_type": "code",
   "execution_count": null,
   "id": "bf95f07b-7798-4b6f-8c41-c23ab8a94d31",
   "metadata": {},
   "outputs": [],
   "source": [
    "# What is the difference between file.read() and file.readline()  in python ?\n",
    "'''\n",
    "1. file.read()\n",
    "Reads the entire file (or a specified number of bytes) into a single string.\n",
    "\n",
    "Useful when you want to process the whole content at once.\n",
    "\n",
    "Example:\n",
    "with open('example.txt', 'r') as f:\n",
    "    content = f.read()\n",
    "    print(content)\n",
    "If the file is large, read() can consume a lot of memory.\n",
    "\n",
    "2. file.readline()\n",
    "Reads one line at a time, including the newline character \\n.\n",
    "\n",
    "Useful for iterating through a file line by line.\n",
    "\n",
    "Example:\n",
    "with open('example.txt', 'r') as f:\n",
    "    line = f.readline()\n",
    "    print(line)\n",
    "You can call readline() repeatedly or loop through the file.\n",
    "\n",
    "\n",
    "'''"
   ]
  },
  {
   "cell_type": "code",
   "execution_count": null,
   "id": "199d5920-47da-4400-8cdf-97e298a12844",
   "metadata": {},
   "outputs": [],
   "source": [
    "# What is the logging module in python used for ?\n",
    "'''\n",
    "The logging module in Python is used to record messages from your program during execution.\n",
    "It provides a flexible system for tracking events, debugging, and error reporting, making it easier to monitor, diagnose, and maintain applications.\n",
    "'''"
   ]
  },
  {
   "cell_type": "code",
   "execution_count": null,
   "id": "9ee3f22a-3cd6-4b4a-b1d2-2f398673332e",
   "metadata": {},
   "outputs": [],
   "source": [
    "# What is the os module in python used for in file handling ?\n",
    "'''\n",
    "The os module in Python provides a way to interact with the operating system, especially for tasks like file and directory handling. \n",
    "It’s widely used to perform file-related operations that go beyond simple reading and writing—such as creating, \n",
    "renaming, deleting, or navigating directories and files.\n",
    "\n",
    "\n",
    "'''"
   ]
  },
  {
   "cell_type": "code",
   "execution_count": null,
   "id": "38c32a01-d1fa-450b-8c80-68fcb91004f5",
   "metadata": {},
   "outputs": [],
   "source": [
    "# What are the challenges asssociated with memory management in python ?\n",
    "'''\n",
    "Key Challenges Associated with Memory Management in Python:\n",
    "1. Reference Cycles (Circular References)\n",
    "Python uses reference counting, but circular references (e.g., object A references B, and B references A) can prevent objects from being freed.\n",
    "\n",
    "Although Python's garbage collector can detect and collect these, it may not always do so promptly.\n",
    "\n",
    "example:\n",
    "class A:\n",
    "    def __init__(self):\n",
    "        self.b = None\n",
    "\n",
    "a = A()\n",
    "b = A()\n",
    "a.b = b\n",
    "b.b = a  # circular reference\n",
    "\n",
    "2. Memory Leaks\n",
    "Memory leaks can occur if objects are unintentionally kept alive (e.g., stored in global variables, caches, or long-lived containers).\n",
    "\n",
    "Over time, this can consume more memory than necessary.\n",
    "\n",
    "3. Fragmentation\n",
    "Python's memory allocator may cause memory fragmentation, where free memory is split into small blocks, making it inefficient to allocate large objects.\n",
    "\n",
    "4. Uncollectable Garbage\n",
    "Some objects (e.g., those with custom __del__ methods involved in reference cycles) may become uncollectable because the garbage collector cannot safely destroy them.\n",
    "\n",
    "5. Overhead from High-Level Abstractions\n",
    "Python's high-level features (e.g., dynamic typing, object creation, and garbage collection) can introduce memory overhead compared to lower-level languages like C or C++.\n",
    "\n",
    "6. Large Object Retention\n",
    "Objects like large lists or data structures might not be released promptly if they're still referenced, even if unintentionally.\n",
    "\n",
    "7. Poor Use of Data Structures\n",
    "Using inefficient data structures (e.g., lists instead of sets or dictionaries for lookups) can increase memory usage\n",
    "'''"
   ]
  },
  {
   "cell_type": "code",
   "execution_count": null,
   "id": "14f0dd46-90d5-4181-860e-c94ae23f6ba2",
   "metadata": {},
   "outputs": [],
   "source": [
    "# How do you raise an exception manually in python ?\n",
    "'''\n",
    "In Python, you can raise an exception manually using the raise statement. This is useful when you want to signal that an error or exceptional condition has occurred— even if Python itself wouldn't raise one automatically.\n",
    "'''"
   ]
  },
  {
   "cell_type": "code",
   "execution_count": null,
   "id": "9b3bf028-4ec3-4be3-a881-329975b885ef",
   "metadata": {},
   "outputs": [],
   "source": [
    "# Why is it important to use multithreading in certain applications?\n",
    "'''\n",
    "Importance of multithreading in certain applications are :\n",
    "\n",
    "1. Improved Responsiveness\n",
    "Allows applications to remain responsive while performing time-consuming tasks.\n",
    "\n",
    "Example: A GUI application can handle user input while processing background tasks (e.g., file downloads).\n",
    "\n",
    "2. Efficient Handling of I/O-bound Tasks\n",
    "Threads can run while waiting for I/O operations (e.g., network requests, file reads/writes).\n",
    "\n",
    "Since I/O-bound tasks spend lots of time waiting, multithreading can improve performance by overlapping these waits.\n",
    "\n",
    "3. Better Resource Utilization\n",
    "Threads share the same memory space, reducing the overhead of creating separate processes.\n",
    "\n",
    "Useful for tasks that require shared data structures (e.g., caching or shared computation).\n",
    "\n",
    "4. Parallelism (Limited in Python due to GIL)\n",
    "Although Python's Global Interpreter Lock (GIL) limits true parallelism for CPU-bound tasks, multithreading can still speed up workloads where:\n",
    "\n",
    "Blocking operations occur (I/O-bound tasks)\n",
    "\n",
    "Background operations need to run alongside main tasks\n",
    "\n",
    "5. Task Separation\n",
    "Multithreading can separate concerns (e.g., logging, monitoring, and processing tasks can run concurrently without blocking the main thread).\n",
    "'''"
   ]
  },
  {
   "cell_type": "markdown",
   "id": "cde6a9e0-b462-4ffd-8d04-063ad287eab6",
   "metadata": {},
   "source": [
    "PRACTICAL QUESTIONS:"
   ]
  },
  {
   "cell_type": "code",
   "execution_count": 22,
   "id": "c65a6f1a-125c-47ba-8315-827d327d63c1",
   "metadata": {},
   "outputs": [],
   "source": [
    "# How can you open a file for writing in python and write a string to it ?"
   ]
  },
  {
   "cell_type": "code",
   "execution_count": 23,
   "id": "3ab0c7b9-a9bd-4ed2-a719-3500c13c1950",
   "metadata": {},
   "outputs": [],
   "source": [
    "file= open(\"file.txt1\",\"w\")"
   ]
  },
  {
   "cell_type": "code",
   "execution_count": 24,
   "id": "0e146cce-faec-47f5-9966-6ba05ef2222c",
   "metadata": {},
   "outputs": [
    {
     "data": {
      "text/plain": [
       "37"
      ]
     },
     "execution_count": 24,
     "metadata": {},
     "output_type": "execute_result"
    }
   ],
   "source": [
    "file.write(\"hello world , this is my first string\")"
   ]
  },
  {
   "cell_type": "code",
   "execution_count": 25,
   "id": "44d7b183-c20e-4c79-bf3b-3b51c1f70728",
   "metadata": {},
   "outputs": [
    {
     "data": {
      "text/plain": [
       "<_io.TextIOWrapper name='file.txt1' mode='w' encoding='cp1252'>"
      ]
     },
     "execution_count": 25,
     "metadata": {},
     "output_type": "execute_result"
    }
   ],
   "source": [
    "file"
   ]
  },
  {
   "cell_type": "code",
   "execution_count": 26,
   "id": "54f7c47e-5ad7-473a-b355-a63de50cc06d",
   "metadata": {},
   "outputs": [
    {
     "data": {
      "text/plain": [
       "<_io.TextIOWrapper name='file.txt1' mode='r' encoding='cp1252'>"
      ]
     },
     "execution_count": 26,
     "metadata": {},
     "output_type": "execute_result"
    }
   ],
   "source": [
    "open(\"file.txt1\",\"r\")"
   ]
  },
  {
   "cell_type": "code",
   "execution_count": 27,
   "id": "6da61114-d1b9-43d1-8aaa-b0bb0fb878d7",
   "metadata": {},
   "outputs": [],
   "source": [
    "file.close()"
   ]
  },
  {
   "cell_type": "code",
   "execution_count": 28,
   "id": "70db1fae-f2b8-4f1c-8355-30cf56a546ac",
   "metadata": {},
   "outputs": [
    {
     "name": "stdout",
     "output_type": "stream",
     "text": [
      "hello world , this is my first string"
     ]
    }
   ],
   "source": [
    "# Write a python program to read the contents of a file and print each line .\n",
    "file = open(\"file.txt1\",\"r\")\n",
    "for line in file :\n",
    "    print(line, end=\"\")"
   ]
  },
  {
   "cell_type": "code",
   "execution_count": 29,
   "id": "02bc1e26-d278-46e3-8694-1921aee2acf5",
   "metadata": {},
   "outputs": [
    {
     "name": "stdout",
     "output_type": "stream",
     "text": [
      "The file does not exist. Please check the file path.\n"
     ]
    }
   ],
   "source": [
    "# How would you handle a case where the file doesn't exist while trying to open it for reading ?\n",
    "try:\n",
    "    # Try to open the file for reading\n",
    "    with open(\"example.txt\", \"r\") as file:\n",
    "        content = file.read()\n",
    "        print(content)\n",
    "except FileNotFoundError:\n",
    "    # Handle the case where the file doesn't exist\n",
    "    print(\"The file does not exist. Please check the file path.\")\n"
   ]
  },
  {
   "cell_type": "code",
   "execution_count": 30,
   "id": "b777ee43-c6de-498e-9f57-8f5fd392d361",
   "metadata": {},
   "outputs": [
    {
     "name": "stdout",
     "output_type": "stream",
     "text": [
      "The file 'input.txt' does not exist.\n"
     ]
    }
   ],
   "source": [
    "# Write a python script that reads from one file and writes its content to another file.\n",
    "\n",
    "# Define source and destination file names\n",
    "source_file = \"input.txt\"\n",
    "destination_file = \"output.txt\"\n",
    "\n",
    "try:\n",
    "    # Open the source file in read mode\n",
    "    with open(source_file, \"r\") as infile:\n",
    "        # Read content from source file\n",
    "        content = infile.read()\n",
    "    \n",
    "    # Open the destination file in write mode\n",
    "    with open(destination_file, \"w\") as outfile:\n",
    "        # Write content to destination file\n",
    "        outfile.write(content)\n",
    "\n",
    "    print(f\"Contents copied from '{source_file}' to '{destination_file}' successfully.\")\n",
    "\n",
    "except FileNotFoundError:\n",
    "    print(f\"The file '{source_file}' does not exist.\")\n",
    "except Exception as e:\n",
    "    print(f\"An error occurred: {e}\")\n"
   ]
  },
  {
   "cell_type": "code",
   "execution_count": 31,
   "id": "08db3f18-17c6-4f35-a365-cb148dfd9f73",
   "metadata": {},
   "outputs": [
    {
     "name": "stdout",
     "output_type": "stream",
     "text": [
      "Error: Cannot divide by zero.\n"
     ]
    }
   ],
   "source": [
    "# How would you catch and handle division by zero error in python ?\n",
    "try:\n",
    "    numerator = 10\n",
    "    denominator = 0\n",
    "    result = numerator / denominator\n",
    "    print(\"Result:\", result)\n",
    "except ZeroDivisionError:\n",
    "    print(\"Error: Cannot divide by zero.\")\n"
   ]
  },
  {
   "cell_type": "code",
   "execution_count": 32,
   "id": "dee94b66-205c-4380-b535-82350c4613ea",
   "metadata": {},
   "outputs": [
    {
     "name": "stdout",
     "output_type": "stream",
     "text": [
      "Error: Cannot divide by zero.\n"
     ]
    }
   ],
   "source": [
    "# Write a python programthat logs an error message to a log file when a division by zero exception occurs.\n",
    "import logging\n",
    "\n",
    "# Configure logging to write to a file\n",
    "logging.basicConfig(filename='error_log.txt', level=logging.ERROR,\n",
    "                    format='%(asctime)s - %(levelname)s - %(message)s')\n",
    "\n",
    "def divide(a, b):\n",
    "    try:\n",
    "        result = a / b\n",
    "        print(\"Result:\", result)\n",
    "    except ZeroDivisionError as e:\n",
    "        logging.error(\"Attempted division by zero: %s\", e)\n",
    "        print(\"Error: Cannot divide by zero.\")\n",
    "\n",
    "# Example usage\n",
    "divide(10, 0)\n"
   ]
  },
  {
   "cell_type": "code",
   "execution_count": null,
   "id": "4f3e395e-af71-4550-98b3-792cf194a20e",
   "metadata": {},
   "outputs": [],
   "source": [
    "# How do you log information at different levels (info, error, warning) in python using the logging module?\n"
   ]
  },
  {
   "cell_type": "code",
   "execution_count": 38,
   "id": "7cc491d4-c0db-4372-b0ec-2f45c9c99f85",
   "metadata": {},
   "outputs": [],
   "source": [
    "import logging\n",
    "\n",
    "# Configure logging settings\n",
    "logging.basicConfig(filename='app.log', level=logging.INFO,\n",
    "                    format='%(asctime)s - %(levelname)s - %(message)s')\n",
    "\n",
    "# Log messages at different levels\n",
    "logging.info(\"This is an INFO message.\")\n",
    "logging.warning(\"This is a WARNING message.\")\n",
    "logging.error(\"This is an ERROR message.\")\n"
   ]
  },
  {
   "cell_type": "code",
   "execution_count": 39,
   "id": "ee7402b3-b00e-4926-ab11-dfaf5b2631eb",
   "metadata": {},
   "outputs": [
    {
     "name": "stdout",
     "output_type": "stream",
     "text": [
      "Error: The file 'non_existing_file.txt' was not found.\n"
     ]
    }
   ],
   "source": [
    "# Write a program to handle a file opening error using exception handling?\n",
    "\n",
    "def read_file(filename):\n",
    "    try:\n",
    "        with open(filename, 'r') as file:\n",
    "            content = file.read()\n",
    "            print(\"File content:\")\n",
    "            print(content)\n",
    "    except FileNotFoundError:\n",
    "        print(f\"Error: The file '{filename}' was not found.\")\n",
    "    except PermissionError:\n",
    "        print(f\"Error: You do not have permission to read '{filename}'.\")\n",
    "    except Exception as e:\n",
    "        print(f\"An unexpected error occurred: {e}\")\n",
    "\n",
    "# Example usage\n",
    "read_file(\"non_existing_file.txt\")\n"
   ]
  },
  {
   "cell_type": "code",
   "execution_count": 47,
   "id": "0bc42799-d12b-40d3-b950-77255510713e",
   "metadata": {},
   "outputs": [
    {
     "name": "stdout",
     "output_type": "stream",
     "text": [
      "['this is the first string']\n"
     ]
    }
   ],
   "source": [
    "# How can you read a file line by line and store its content in a list in python ?\n",
    "with open(\"file.txt\", \"r\") as file:\n",
    "    lines = file.readlines()\n",
    "\n",
    "# Now 'lines' is a list of strings, each representing a line in the file\n",
    "print(lines)\n",
    "\n"
   ]
  },
  {
   "cell_type": "code",
   "execution_count": 48,
   "id": "d560f5d1-8dba-47de-917e-61b986c7aab0",
   "metadata": {},
   "outputs": [],
   "source": [
    "# How can you append data to an existing file in python ?\n",
    "\n",
    "with open(\"file.txt1\", \"a\") as file:\n",
    "    file.write(\"New log entry 1\\n\")\n",
    "    file.write(\"New log entry 2\\n\")\n"
   ]
  },
  {
   "cell_type": "code",
   "execution_count": 49,
   "id": "7baf0b89-85ed-4df6-9a1f-c70b939c5ffa",
   "metadata": {},
   "outputs": [
    {
     "name": "stdout",
     "output_type": "stream",
     "text": [
      "Error: The key 'city' does not exist in the dictionary.\n"
     ]
    }
   ],
   "source": [
    "# Write a python program that uses a try - except block to handle an error when attempting to access a dictionary key that doesn't exist ?\n",
    "\n",
    "person = {\n",
    "    \"name\": \"Alice\",\n",
    "    \"age\": 30\n",
    "}\n",
    "\n",
    "try:\n",
    "    # Attempt to access a key that may not exist\n",
    "    print(\"City:\", person[\"city\"])\n",
    "except KeyError:\n",
    "    print(\"Error: The key 'city' does not exist in the dictionary.\")\n"
   ]
  },
  {
   "cell_type": "code",
   "execution_count": 1,
   "id": "e66060bd-0489-438d-beca-9555b215228e",
   "metadata": {},
   "outputs": [
    {
     "name": "stdin",
     "output_type": "stream",
     "text": [
      "Enter the numerator:  10\n",
      "Enter the denominator:  0\n"
     ]
    },
    {
     "name": "stdout",
     "output_type": "stream",
     "text": [
      "Error: Cannot divide by zero.\n"
     ]
    }
   ],
   "source": [
    "# Write a program that demonstrate using multiple except blocks to handle different types of exceptions ?\n",
    "try:\n",
    "    # Get user input and convert to integers\n",
    "    num1 = int(input(\"Enter the numerator: \"))\n",
    "    num2 = int(input(\"Enter the denominator: \"))\n",
    "    \n",
    "    # Perform division\n",
    "    result = num1 / num2\n",
    "    print(\"Result:\", result)\n",
    "\n",
    "except ZeroDivisionError:\n",
    "    print(\"Error: Cannot divide by zero.\")\n",
    "\n",
    "except ValueError:\n",
    "    print(\"Error: Please enter valid integer numbers.\")\n",
    "\n",
    "except Exception as e:\n",
    "    print(f\"An unexpected error occurred: {e}\")\n"
   ]
  },
  {
   "cell_type": "code",
   "execution_count": 2,
   "id": "33fec1a2-52ec-4cc5-bcea-f7f39e903159",
   "metadata": {},
   "outputs": [
    {
     "name": "stdout",
     "output_type": "stream",
     "text": [
      "The file 'example.txt' does not exist.\n"
     ]
    }
   ],
   "source": [
    "# How would you check if a file exists before attempting to read it in python ?\n",
    "from pathlib import Path\n",
    "\n",
    "file_path = Path(\"example.txt\")\n",
    "\n",
    "if file_path.exists():\n",
    "    with open(file_path, \"r\") as file:\n",
    "        content = file.read()\n",
    "        print(content)\n",
    "else:\n",
    "    print(f\"The file '{file_path}' does not exist.\")\n"
   ]
  },
  {
   "cell_type": "code",
   "execution_count": 3,
   "id": "c9eae52a-d896-4bb3-9b08-d9d977445c94",
   "metadata": {},
   "outputs": [],
   "source": [
    "# Write a program that uses the logging module to log both informational and error messages ?\n",
    "import logging\n",
    "\n",
    "# Configure logging\n",
    "logging.basicConfig(\n",
    "    filename='app.log',          # Log file name\n",
    "    level=logging.INFO,          # Minimum logging level\n",
    "    format='%(asctime)s - %(levelname)s - %(message)s'\n",
    ")\n",
    "\n",
    "# Example informational message\n",
    "logging.info(\"The application has started successfully.\")\n",
    "\n",
    "try:\n",
    "    # Example operation that may raise an error\n",
    "    a = 10\n",
    "    b = 0\n",
    "    result = a / b\n",
    "    logging.info(f\"Division result: {result}\")\n",
    "except ZeroDivisionError as e:\n",
    "    # Log the error\n",
    "    logging.error(\"Attempted division by zero: %s\", e)\n",
    "\n",
    "# Continue with another info message\n",
    "logging.info(\"The application has finished running.\")\n"
   ]
  },
  {
   "cell_type": "code",
   "execution_count": 4,
   "id": "74efabee-9665-4514-978e-83923a120040",
   "metadata": {},
   "outputs": [
    {
     "name": "stdout",
     "output_type": "stream",
     "text": [
      "Error: The file 'example.txt' does not exist.\n"
     ]
    }
   ],
   "source": [
    "# Write a python program that prints the content of a file and handles the case when the file is empty ?\n",
    "def print_file_contents(filename):\n",
    "    try:\n",
    "        with open(filename, 'r') as file:\n",
    "            content = file.read()\n",
    "            if content.strip() == \"\":\n",
    "                print(f\"The file '{filename}' is empty.\")\n",
    "            else:\n",
    "                print(\"File content:\")\n",
    "                print(content)\n",
    "    except FileNotFoundError:\n",
    "        print(f\"Error: The file '{filename}' does not exist.\")\n",
    "    except Exception as e:\n",
    "        print(f\"An unexpected error occurred: {e}\")\n",
    "\n",
    "# Example usage\n",
    "print_file_contents(\"example.txt\")\n"
   ]
  },
  {
   "cell_type": "code",
   "execution_count": 14,
   "id": "7981d904-e97a-46f7-b3f2-eaad1964f0c6",
   "metadata": {},
   "outputs": [
    {
     "ename": "NameError",
     "evalue": "name 'memory_example' is not defined",
     "output_type": "error",
     "traceback": [
      "\u001b[1;31m---------------------------------------------------------------------------\u001b[0m",
      "\u001b[1;31mNameError\u001b[0m                                 Traceback (most recent call last)",
      "Cell \u001b[1;32mIn[14], line 2\u001b[0m\n\u001b[0;32m      1\u001b[0m \u001b[38;5;66;03m# Demonstrate how to use memory profiling to check the memory usage of a small program ?\u001b[39;00m\n\u001b[1;32m----> 2\u001b[0m filename: memory_example\u001b[38;5;241m.\u001b[39mpy\n\u001b[0;32m      3\u001b[0m \u001b[38;5;28;01mfrom\u001b[39;00m \u001b[38;5;21;01mmemory_profiler\u001b[39;00m \u001b[38;5;28;01mimport\u001b[39;00m profile\n\u001b[0;32m      5\u001b[0m \u001b[38;5;129m@profile\u001b[39m\n\u001b[0;32m      6\u001b[0m \u001b[38;5;28;01mdef\u001b[39;00m \u001b[38;5;21mcreate_list\u001b[39m():\n",
      "\u001b[1;31mNameError\u001b[0m: name 'memory_example' is not defined"
     ]
    }
   ],
   "source": [
    "# Demonstrate how to use memory profiling to check the memory usage of a small program ?\n",
    "\n"
   ]
  },
  {
   "cell_type": "code",
   "execution_count": 15,
   "id": "decfe71a-975d-4cf0-a78a-5f134356106c",
   "metadata": {},
   "outputs": [
    {
     "name": "stdout",
     "output_type": "stream",
     "text": [
      "Successfully wrote 5 numbers to 'numbers.txt'.\n"
     ]
    }
   ],
   "source": [
    "# Write a pyhton program to create and write a list of numbers to a file, one number per line.\n",
    "\n",
    "numbers = [10, 20, 30, 40, 50]\n",
    "\n",
    "filename = \"numbers.txt\"\n",
    "\n",
    "try:\n",
    "    with open(filename, 'w') as file:\n",
    "        for number in numbers:\n",
    "            file.write(f\"{number}\\n\")\n",
    "    print(f\"Successfully wrote {len(numbers)} numbers to '{filename}'.\")\n",
    "except Exception as e:\n",
    "    print(f\"An error occurred: {e}\")\n"
   ]
  },
  {
   "cell_type": "code",
   "execution_count": 22,
   "id": "4ff088ab-92bb-4be4-a48b-5b9f482eaa26",
   "metadata": {},
   "outputs": [],
   "source": [
    "# How would you implement a basic logging setup that logs to a file with rotation after 1mb?\n",
    "import logging\n",
    "from logging.handlers import RotatingFileHandler\n",
    "\n",
    "# Set up a rotating file handler\n",
    "log_file = \"app.log\"\n",
    "max_size = 1 * 1024 * 1024  # 1MB (in bytes)\n",
    "backup_count = 3  # Number of backup files to keep\n",
    "\n",
    "# Create the rotating file handler\n",
    "handler = RotatingFileHandler(log_file, maxBytes=max_size, backupCount=backup_count)\n",
    "\n",
    "# Set the log format\n",
    "formatter = logging.Formatter('%(asctime)s - %(levelname)s - %(message)s')\n",
    "handler.setFormatter(formatter)\n",
    "\n",
    "# Set up the logger\n",
    "logger = logging.getLogger(\"MyLogger\")\n",
    "logger.setLevel(logging.INFO)\n",
    "logger.addHandler(handler)\n",
    "\n",
    "# Example log messages\n",
    "logger.info(\"This is an informational message.\")\n",
    "logger.error(\"This is an error message.\")\n",
    "logger.warning(\"This is a warning message.\")\n",
    "\n",
    "# Simulating a lot of log entries to rotate the log file\n",
    "for i in range(1000):\n",
    "    logger.info(f\"Log entry number {i}\")\n"
   ]
  },
  {
   "cell_type": "code",
   "execution_count": 17,
   "id": "f427a371-32c0-47dc-8b75-3ea4756a8924",
   "metadata": {},
   "outputs": [
    {
     "name": "stdout",
     "output_type": "stream",
     "text": [
      "Error: List index is out of range.\n"
     ]
    }
   ],
   "source": [
    "# Write a program that handles both index error and key error using a try-except block?\n",
    "def handle_errors():\n",
    "    my_list = [10, 20, 30]\n",
    "    my_dict = {\"name\": \"Alice\", \"age\": 25}\n",
    "\n",
    "    try:\n",
    "        # Trying to access an invalid index\n",
    "        print(\"List item:\", my_list[5])\n",
    "        \n",
    "        # Trying to access a missing key\n",
    "        print(\"City:\", my_dict[\"city\"])\n",
    "\n",
    "    except IndexError:\n",
    "        print(\"Error: List index is out of range.\")\n",
    "\n",
    "    except KeyError:\n",
    "        print(\"Error: Dictionary key not found.\")\n",
    "\n",
    "# Run the function\n",
    "handle_errors()\n"
   ]
  },
  {
   "cell_type": "code",
   "execution_count": 18,
   "id": "77e74bb9-242f-480b-a858-16b864f31b7d",
   "metadata": {},
   "outputs": [
    {
     "name": "stdout",
     "output_type": "stream",
     "text": [
      "Error: The file 'example.txt' does not exist.\n"
     ]
    }
   ],
   "source": [
    "# How would you open a file and read its contents using a context manager in pyhton ?\n",
    "filename = \"example.txt\"\n",
    "\n",
    "try:\n",
    "    with open(filename, 'r') as file:\n",
    "        content = file.read()\n",
    "        print(\"File contents:\")\n",
    "        print(content)\n",
    "except FileNotFoundError:\n",
    "    print(f\"Error: The file '{filename}' does not exist.\")\n"
   ]
  },
  {
   "cell_type": "code",
   "execution_count": 19,
   "id": "b45936fe-3b10-4bcb-8a1d-b5a58e1a8245",
   "metadata": {},
   "outputs": [
    {
     "name": "stdout",
     "output_type": "stream",
     "text": [
      "Error: The file 'example.txt' does not exist.\n"
     ]
    }
   ],
   "source": [
    "# Write a python program that reads a file and prints the number of occurence of a specific word.\n",
    "def count_word_occurrences(filename, target_word):\n",
    "    try:\n",
    "        with open(filename, 'r') as file:\n",
    "            content = file.read().lower()  # Convert to lowercase for case-insensitive matching\n",
    "            words = content.split()\n",
    "            count = words.count(target_word.lower())\n",
    "            print(f\"The word '{target_word}' appears {count} time(s) in '{filename}'.\")\n",
    "    except FileNotFoundError:\n",
    "        print(f\"Error: The file '{filename}' does not exist.\")\n",
    "    except Exception as e:\n",
    "        print(f\"An unexpected error occurred: {e}\")\n",
    "\n",
    "# Example usage\n",
    "count_word_occurrences(\"example.txt\", \"python\")\n"
   ]
  },
  {
   "cell_type": "code",
   "execution_count": 20,
   "id": "614f865a-d832-435b-86ef-51a268ad0843",
   "metadata": {},
   "outputs": [
    {
     "name": "stdout",
     "output_type": "stream",
     "text": [
      "Error: The file 'example.txt' does not exist.\n"
     ]
    }
   ],
   "source": [
    "# How can you check if a file is empty before attempting to read its contents ?\n",
    "import os\n",
    "\n",
    "def check_file_empty(filename):\n",
    "    # Check if the file exists and its size\n",
    "    if os.path.exists(filename):\n",
    "        if os.path.getsize(filename) == 0:\n",
    "            print(f\"The file '{filename}' is empty.\")\n",
    "        else:\n",
    "            print(f\"The file '{filename}' is not empty. Proceeding to read.\")\n",
    "            with open(filename, 'r') as file:\n",
    "                content = file.read()\n",
    "                print(content)\n",
    "    else:\n",
    "        print(f\"Error: The file '{filename}' does not exist.\")\n",
    "\n",
    "# Example usage\n",
    "check_file_empty(\"example.txt\")\n"
   ]
  },
  {
   "cell_type": "code",
   "execution_count": null,
   "id": "43a7be2a-3525-461d-91de-1342cd40fc4f",
   "metadata": {},
   "outputs": [],
   "source": [
    "# Write a python program thatb w"
   ]
  }
 ],
 "metadata": {
  "kernelspec": {
   "display_name": "Python 3 (ipykernel)",
   "language": "python",
   "name": "python3"
  },
  "language_info": {
   "codemirror_mode": {
    "name": "ipython",
    "version": 3
   },
   "file_extension": ".py",
   "mimetype": "text/x-python",
   "name": "python",
   "nbconvert_exporter": "python",
   "pygments_lexer": "ipython3",
   "version": "3.12.7"
  }
 },
 "nbformat": 4,
 "nbformat_minor": 5
}
